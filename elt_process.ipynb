{
 "cells": [
  {
   "cell_type": "code",
   "execution_count": 1,
   "metadata": {},
   "outputs": [],
   "source": [
    "import pandas as pd\n",
    "import mysql.connector\n"
   ]
  },
  {
   "cell_type": "code",
   "execution_count": 2,
   "metadata": {},
   "outputs": [],
   "source": [
    "def read_data_from_path(path):\n",
    "    df = pd.read_json(path, lines=True)\n",
    "    df = pd.DataFrame.from_records(df['_source'])\n",
    "    df = df[['Contract','TotalDuration','AppName']]\n",
    "    return df"
   ]
  },
  {
   "cell_type": "code",
   "execution_count": 3,
   "metadata": {},
   "outputs": [],
   "source": [
    "def process_category_data(df):\n",
    "    df['Category'] = df['AppName'].apply(lambda x: 'The thao' if x in ['KPLUS','SPORT']\n",
    "                                            else('Phim' if x in ['FIMS','VOD']\n",
    "                                            else('Thu gian' if x == 'RELAX'\n",
    "                                            else('Cho tre em' if x =='CHILD'\n",
    "                                            else('Truyen hinh' if x =='CHANNEL'\n",
    "                                            else('Others'))))))\n",
    "    return df"
   ]
  },
  {
   "cell_type": "code",
   "execution_count": 4,
   "metadata": {},
   "outputs": [],
   "source": [
    "def process_summary_data(df):\n",
    "    df = df[['Contract','TotalDuration','Category']]\n",
    "    df = pd.pivot_table(df, index='Contract', columns='Category',values='TotalDuration', aggfunc=sum).reset_index()\n",
    "    df = df.rename_axis(None, axis=1)\n",
    "    df.fillna(0,inplace=True)\n",
    "    return df"
   ]
  },
  {
   "cell_type": "code",
   "execution_count": 5,
   "metadata": {},
   "outputs": [],
   "source": [
    "def import_data_into_database(df):\n",
    "    cnx = mysql.connector.connect(user='root',\n",
    "                              password='',\n",
    "                              host='localhost',\n",
    "                              database='test_data')\n",
    "    cursor = cnx.cursor()\n",
    "    query = \"\"\" INSERT INTO user_statistic (`Contract`,`Cho tre em`,`Phim`,`The Thao`, `Thu gian` , `Truyen Hinh`) VALUES (%s,%s,%s,%s,%s,%s)\"\"\"\n",
    "    test = df[0:1000]\n",
    "    cursor.executemany(query, test.values.tolist())\n",
    "    return df\n",
    "    "
   ]
  },
  {
   "cell_type": "code",
   "execution_count": 10,
   "metadata": {},
   "outputs": [],
   "source": [
    "def main_task():\n",
    "    print('-------------------')\n",
    "    print('Read Data From Path')\n",
    "    path = 'D:\\\\python-project\\\\ETL\\\\20220401.json'\n",
    "    df = read_data_from_path(path)\n",
    "    print(df.head(5))\n",
    "    print('-------------------')\n",
    "    print('Category Data processing')\n",
    "    df = process_category_data(df)\n",
    "    print(df.head(5))\n",
    "    print('-------------------')\n",
    "    print('Summary Data processing')\n",
    "    print('-------------------')\n",
    "    df = process_summary_data(df)\n",
    "    print(df.head(5))\n",
    "    print('Importing Data')\n",
    "    print('-------------------')\n",
    "    import_data_into_database(df)\n",
    "    return print('Task finished')"
   ]
  },
  {
   "cell_type": "code",
   "execution_count": 11,
   "metadata": {},
   "outputs": [
    {
     "name": "stdout",
     "output_type": "stream",
     "text": [
      "-------------------\n",
      "Read Data From Path\n",
      "    Contract  TotalDuration AppName\n",
      "0  HNH579912            254   KPLUS\n",
      "1  HUFD40665           1457   KPLUS\n",
      "2  HNH572635           2318   KPLUS\n",
      "3  HND141717           1452   KPLUS\n",
      "4  HNH743103            251   KPLUS\n",
      "-------------------\n",
      "Category Data processing\n",
      "    Contract  TotalDuration AppName  Category\n",
      "0  HNH579912            254   KPLUS  The thao\n",
      "1  HUFD40665           1457   KPLUS  The thao\n",
      "2  HNH572635           2318   KPLUS  The thao\n",
      "3  HND141717           1452   KPLUS  The thao\n",
      "4  HNH743103            251   KPLUS  The thao\n",
      "-------------------\n",
      "Summary Data processing\n",
      "-------------------\n",
      "         Contract  Cho tre em  Phim   The thao  Thu gian  Truyen hinh\n",
      "0               0         0.0   0.0  3667070.0       0.0  515879796.0\n",
      "1  113.182.209.48         0.0   0.0        0.0      89.0         63.0\n",
      "2       AGAAA0335         0.0   0.0        0.0       0.0      11440.0\n",
      "3       AGAAA0338         0.0   0.0        0.0       0.0       8895.0\n",
      "4       AGAAA0342         0.0   0.0        0.0       0.0         44.0\n",
      "Importing Data\n",
      "-------------------\n",
      "Task finished\n"
     ]
    }
   ],
   "source": [
    "main_task()"
   ]
  }
 ],
 "metadata": {
  "kernelspec": {
   "display_name": "Python 3",
   "language": "python",
   "name": "python3"
  },
  "language_info": {
   "codemirror_mode": {
    "name": "ipython",
    "version": 3
   },
   "file_extension": ".py",
   "mimetype": "text/x-python",
   "name": "python",
   "nbconvert_exporter": "python",
   "pygments_lexer": "ipython3",
   "version": "3.11.2"
  },
  "orig_nbformat": 4
 },
 "nbformat": 4,
 "nbformat_minor": 2
}
